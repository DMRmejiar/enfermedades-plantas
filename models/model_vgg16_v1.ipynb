{
 "cells": [
  {
   "cell_type": "markdown",
   "metadata": {},
   "source": [
    "Importaciones al programa"
   ]
  },
  {
   "cell_type": "code",
   "execution_count": 1,
   "metadata": {},
   "outputs": [],
   "source": [
    "import numpy as np\n",
    "import pickle\n",
    "import cv2\n",
    "from os import listdir\n",
    "from sklearn.preprocessing import LabelBinarizer\n",
    "from keras.models import Sequential, Model\n",
    "from tensorflow.keras.optimizers import Adam\n",
    "from tensorflow.keras.layers import BatchNormalization, GlobalAveragePooling2D\n",
    "from tensorflow.keras.layers import Conv2D\n",
    "from keras.layers.convolutional import MaxPooling2D\n",
    "from keras.layers.core import Activation, Flatten, Dropout, Dense\n",
    "from keras import backend as K\n",
    "from keras.preprocessing.image import ImageDataGenerator\n",
    "from tensorflow.keras.optimizers import Adam\n",
    "from keras.preprocessing import image\n",
    "from keras.preprocessing.image import img_to_array\n",
    "from sklearn.preprocessing import MultiLabelBinarizer\n",
    "from sklearn.model_selection import train_test_split\n",
    "import matplotlib.pyplot as plt"
   ]
  },
  {
   "cell_type": "markdown",
   "metadata": {},
   "source": [
    "Verificar que Tensorflow tenga cargada una GPU"
   ]
  },
  {
   "cell_type": "code",
   "execution_count": 2,
   "metadata": {},
   "outputs": [
    {
     "name": "stdout",
     "output_type": "stream",
     "text": [
      "Num GPUs Available:  1\n"
     ]
    }
   ],
   "source": [
    "import tensorflow as tf\n",
    "print(\"Num GPUs Available: \", len(tf.config.experimental.list_physical_devices('GPU')))"
   ]
  },
  {
   "cell_type": "markdown",
   "metadata": {},
   "source": [
    "Prepocesamiento de los datos 1"
   ]
  },
  {
   "cell_type": "markdown",
   "metadata": {},
   "source": [
    "Variables iniciales"
   ]
  },
  {
   "cell_type": "code",
   "execution_count": 3,
   "metadata": {},
   "outputs": [],
   "source": [
    "depth=3\n",
    "width=256\n",
    "height=256\n",
    "train_path = '../data/dataset-2/train'\n",
    "valid_path = '../data/dataset-2/valid'\n",
    "default_image_size = tuple((width, height))"
   ]
  },
  {
   "cell_type": "markdown",
   "metadata": {},
   "source": [
    "Funcion para leer y cargar cada imagen"
   ]
  },
  {
   "cell_type": "code",
   "execution_count": 4,
   "metadata": {},
   "outputs": [],
   "source": [
    "def convert_image_to_array(image_dir):\n",
    "    try:\n",
    "        image = cv2.imread(image_dir)\n",
    "        if image is not None :\n",
    "            image = cv2.resize(image, default_image_size)   \n",
    "            return img_to_array(image)\n",
    "        else :\n",
    "            return np.array([])\n",
    "    except Exception as e:\n",
    "        print(f\"Error : {e}\")\n",
    "        return None"
   ]
  },
  {
   "cell_type": "markdown",
   "metadata": {},
   "source": [
    "Solo las carpetas 20 a 23 para probar con POTATO\n",
    "Se asegura de agregar solamente imagenes terminadas en .jpg"
   ]
  },
  {
   "cell_type": "code",
   "execution_count": 5,
   "metadata": {},
   "outputs": [
    {
     "name": "stdout",
     "output_type": "stream",
     "text": [
      "Processing Potato___Early_blight ...\n",
      "Processing Potato___healthy ...\n",
      "Processing Potato___Late_blight ...\n"
     ]
    }
   ],
   "source": [
    "image_list, label_list = [], []\n",
    "try:\n",
    "    plant_disease_folder_list = listdir(train_path)\n",
    "    for plant_disease_folder in plant_disease_folder_list[20:23]:\n",
    "        print(f\"Processing {plant_disease_folder} ...\")\n",
    "        plant_disease_image_list = listdir(f\"{train_path}/{plant_disease_folder}/\")\n",
    "        for image in plant_disease_image_list[:200]:\n",
    "            image_directory = f\"{train_path}/{plant_disease_folder}/{image}\"\n",
    "            if image_directory.endswith(\".jpg\") == True or image_directory.endswith(\".JPG\") == True:\n",
    "                image_list.append(convert_image_to_array(image_directory))\n",
    "                label_list.append(plant_disease_folder)\n",
    "except Exception as e:\n",
    "    print(f\"Error : {e}\")"
   ]
  },
  {
   "cell_type": "code",
   "execution_count": 6,
   "metadata": {},
   "outputs": [],
   "source": [
    "np_image_list = np.array(image_list, dtype=np.float16) / 225.0"
   ]
  },
  {
   "cell_type": "markdown",
   "metadata": {},
   "source": [
    "Codificacion de los Labels"
   ]
  },
  {
   "cell_type": "code",
   "execution_count": 7,
   "metadata": {},
   "outputs": [
    {
     "name": "stdout",
     "output_type": "stream",
     "text": [
      "Clases a analizar: ['Potato___Early_blight' 'Potato___Late_blight' 'Potato___healthy']\n",
      "Clases binarizadas: LabelBinarizer()\n"
     ]
    }
   ],
   "source": [
    "label_binarizer = LabelBinarizer()\n",
    "image_labels = label_binarizer.fit_transform(label_list)\n",
    "pickle.dump(label_binarizer,open('label_transform.pkl', 'wb'))\n",
    "n_classes = len(label_binarizer.classes_)\n",
    "print(f\"Clases a analizar: {label_binarizer.classes_}\")\n",
    "print(f\"Clases binarizadas: {label_binarizer}\")"
   ]
  },
  {
   "cell_type": "code",
   "execution_count": 8,
   "metadata": {},
   "outputs": [
    {
     "name": "stdout",
     "output_type": "stream",
     "text": [
      "[[[[0.573  0.4978 0.5557]\n",
      "   [0.5645 0.4888 0.547 ]\n",
      "   [0.569  0.4934 0.5513]\n",
      "   ...\n",
      "   [0.742  0.676  0.6934]\n",
      "   [0.76   0.6934 0.711 ]\n",
      "   [0.8    0.7334 0.751 ]]\n",
      "\n",
      "  [[0.6045 0.529  0.5864]\n",
      "   [0.5913 0.5156 0.573 ]\n",
      "   [0.5864 0.511  0.569 ]\n",
      "   ...\n",
      "   [0.8    0.7334 0.751 ]\n",
      "   [0.782  0.7153 0.7334]\n",
      "   [0.778  0.711  0.729 ]]\n",
      "\n",
      "  [[0.5957 0.52   0.5776]\n",
      "   [0.582  0.507  0.5645]\n",
      "   [0.5776 0.5024 0.56  ]\n",
      "   ...\n",
      "   [0.7866 0.72   0.738 ]\n",
      "   [0.76   0.6934 0.711 ]\n",
      "   [0.742  0.676  0.6934]]\n",
      "\n",
      "  ...\n",
      "\n",
      "  [[0.4712 0.4268 0.4978]\n",
      "   [0.4934 0.449  0.52  ]\n",
      "   [0.511  0.4666 0.5376]\n",
      "   ...\n",
      "   [0.76   0.7246 0.7734]\n",
      "   [0.76   0.7246 0.7734]\n",
      "   [0.76   0.7246 0.7734]]\n",
      "\n",
      "  [[0.5645 0.52   0.5913]\n",
      "   [0.5776 0.533  0.6045]\n",
      "   [0.5376 0.4934 0.5645]\n",
      "   ...\n",
      "   [0.7466 0.711  0.76  ]\n",
      "   [0.76   0.7246 0.7734]\n",
      "   [0.769  0.7334 0.782 ]]\n",
      "\n",
      "  [[0.507  0.4622 0.533 ]\n",
      "   [0.5156 0.4712 0.542 ]\n",
      "   [0.4712 0.4268 0.4978]\n",
      "   ...\n",
      "   [0.7246 0.689  0.738 ]\n",
      "   [0.742  0.7065 0.7554]\n",
      "   [0.76   0.7246 0.7734]]]\n",
      "\n",
      "\n",
      " [[[0.     0.     0.    ]\n",
      "   [0.     0.     0.    ]\n",
      "   [0.     0.     0.    ]\n",
      "   ...\n",
      "   [0.     0.     0.    ]\n",
      "   [0.     0.     0.    ]\n",
      "   [0.     0.     0.    ]]\n",
      "\n",
      "  [[0.     0.     0.    ]\n",
      "   [0.     0.     0.    ]\n",
      "   [0.     0.     0.    ]\n",
      "   ...\n",
      "   [0.     0.     0.    ]\n",
      "   [0.     0.     0.    ]\n",
      "   [0.     0.     0.    ]]\n",
      "\n",
      "  [[0.     0.     0.    ]\n",
      "   [0.     0.     0.    ]\n",
      "   [0.     0.     0.    ]\n",
      "   ...\n",
      "   [0.     0.     0.    ]\n",
      "   [0.     0.     0.    ]\n",
      "   [0.     0.     0.    ]]\n",
      "\n",
      "  ...\n",
      "\n",
      "  [[0.     0.     0.    ]\n",
      "   [0.     0.     0.    ]\n",
      "   [0.     0.     0.    ]\n",
      "   ...\n",
      "   [0.     0.     0.    ]\n",
      "   [0.     0.     0.    ]\n",
      "   [0.     0.     0.    ]]\n",
      "\n",
      "  [[0.     0.     0.    ]\n",
      "   [0.     0.     0.    ]\n",
      "   [0.     0.     0.    ]\n",
      "   ...\n",
      "   [0.     0.     0.    ]\n",
      "   [0.     0.     0.    ]\n",
      "   [0.     0.     0.    ]]\n",
      "\n",
      "  [[0.     0.     0.    ]\n",
      "   [0.     0.     0.    ]\n",
      "   [0.     0.     0.    ]\n",
      "   ...\n",
      "   [0.     0.     0.    ]\n",
      "   [0.     0.     0.    ]\n",
      "   [0.     0.     0.    ]]]\n",
      "\n",
      "\n",
      " [[[0.64   0.64   0.6665]\n",
      "   [0.6577 0.6577 0.6846]\n",
      "   [0.6846 0.6846 0.711 ]\n",
      "   ...\n",
      "   [0.5645 0.547  0.5957]\n",
      "   [0.6313 0.6133 0.662 ]\n",
      "   [0.6265 0.609  0.6577]]\n",
      "\n",
      "  [[0.6265 0.6265 0.6533]\n",
      "   [0.64   0.64   0.6665]\n",
      "   [0.6533 0.6533 0.68  ]\n",
      "   ...\n",
      "   [0.56   0.542  0.5913]\n",
      "   [0.6133 0.5957 0.6445]\n",
      "   [0.6    0.582  0.6313]]\n",
      "\n",
      "  [[0.6177 0.6177 0.6445]\n",
      "   [0.6133 0.6133 0.64  ]\n",
      "   [0.6133 0.6133 0.64  ]\n",
      "   ...\n",
      "   [0.56   0.542  0.5913]\n",
      "   [0.6    0.582  0.6313]\n",
      "   [0.573  0.5557 0.6045]]\n",
      "\n",
      "  ...\n",
      "\n",
      "  [[0.6665 0.64   0.662 ]\n",
      "   [0.662  0.6357 0.6577]\n",
      "   [0.671  0.6445 0.6665]\n",
      "   ...\n",
      "   [0.622  0.5864 0.6177]\n",
      "   [0.6357 0.6    0.6313]\n",
      "   [0.6445 0.609  0.64  ]]\n",
      "\n",
      "  [[0.68   0.6533 0.676 ]\n",
      "   [0.676  0.649  0.671 ]\n",
      "   [0.676  0.649  0.671 ]\n",
      "   ...\n",
      "   [0.6265 0.5913 0.622 ]\n",
      "   [0.622  0.5864 0.6177]\n",
      "   [0.6177 0.582  0.6133]]\n",
      "\n",
      "  [[0.72   0.6934 0.7153]\n",
      "   [0.7065 0.68   0.702 ]\n",
      "   [0.702  0.676  0.6978]\n",
      "   ...\n",
      "   [0.6313 0.5957 0.6265]\n",
      "   [0.609  0.573  0.6045]\n",
      "   [0.5913 0.5557 0.5864]]]\n",
      "\n",
      "\n",
      " ...\n",
      "\n",
      "\n",
      " [[[1.134  1.134  1.134 ]\n",
      "   [1.134  1.134  1.134 ]\n",
      "   [1.134  1.134  1.134 ]\n",
      "   ...\n",
      "   [1.134  1.134  1.134 ]\n",
      "   [1.134  1.134  1.134 ]\n",
      "   [1.134  1.134  1.134 ]]\n",
      "\n",
      "  [[1.134  1.134  1.134 ]\n",
      "   [1.134  1.134  1.134 ]\n",
      "   [1.134  1.134  1.134 ]\n",
      "   ...\n",
      "   [1.134  1.134  1.134 ]\n",
      "   [1.134  1.134  1.134 ]\n",
      "   [1.134  1.134  1.134 ]]\n",
      "\n",
      "  [[1.134  1.134  1.134 ]\n",
      "   [1.134  1.134  1.134 ]\n",
      "   [1.134  1.134  1.134 ]\n",
      "   ...\n",
      "   [1.134  1.134  1.134 ]\n",
      "   [1.134  1.134  1.134 ]\n",
      "   [1.134  1.134  1.134 ]]\n",
      "\n",
      "  ...\n",
      "\n",
      "  [[1.134  1.134  1.134 ]\n",
      "   [1.134  1.134  1.134 ]\n",
      "   [1.134  1.134  1.134 ]\n",
      "   ...\n",
      "   [1.134  1.134  1.134 ]\n",
      "   [1.134  1.134  1.134 ]\n",
      "   [1.134  1.134  1.134 ]]\n",
      "\n",
      "  [[1.134  1.134  1.134 ]\n",
      "   [1.134  1.134  1.134 ]\n",
      "   [1.134  1.134  1.134 ]\n",
      "   ...\n",
      "   [1.134  1.134  1.134 ]\n",
      "   [1.134  1.134  1.134 ]\n",
      "   [1.134  1.134  1.134 ]]\n",
      "\n",
      "  [[1.134  1.134  1.134 ]\n",
      "   [1.134  1.134  1.134 ]\n",
      "   [1.134  1.134  1.134 ]\n",
      "   ...\n",
      "   [1.134  1.134  1.134 ]\n",
      "   [1.134  1.134  1.134 ]\n",
      "   [1.134  1.134  1.134 ]]]\n",
      "\n",
      "\n",
      " [[[0.729  0.702  0.7246]\n",
      "   [0.8354 0.809  0.831 ]\n",
      "   [0.8755 0.844  0.8667]\n",
      "   ...\n",
      "   [0.742  0.7334 0.76  ]\n",
      "   [0.6934 0.6846 0.711 ]\n",
      "   [0.8843 0.8755 0.9023]]\n",
      "\n",
      "  [[0.7466 0.72   0.742 ]\n",
      "   [0.6265 0.6    0.622 ]\n",
      "   [0.751  0.72   0.742 ]\n",
      "   ...\n",
      "   [0.8267 0.818  0.844 ]\n",
      "   [0.778  0.769  0.7954]\n",
      "   [0.8623 0.8535 0.88  ]]\n",
      "\n",
      "  [[0.729  0.702  0.7246]\n",
      "   [0.68   0.6533 0.676 ]\n",
      "   [0.738  0.7065 0.729 ]\n",
      "   ...\n",
      "   [0.7734 0.7646 0.791 ]\n",
      "   [0.7466 0.738  0.7646]\n",
      "   [0.7065 0.6978 0.7246]]\n",
      "\n",
      "  ...\n",
      "\n",
      "  [[0.8223 0.791  0.8047]\n",
      "   [0.791  0.76   0.7734]\n",
      "   [0.7954 0.7646 0.778 ]\n",
      "   ...\n",
      "   [0.8623 0.8354 0.858 ]\n",
      "   [0.858  0.8267 0.858 ]\n",
      "   [0.8535 0.8223 0.8535]]\n",
      "\n",
      "  [[0.8135 0.782  0.7954]\n",
      "   [0.8135 0.782  0.7954]\n",
      "   [0.782  0.751  0.7646]\n",
      "   ...\n",
      "   [0.8887 0.8623 0.8843]\n",
      "   [0.8755 0.84   0.871 ]\n",
      "   [0.8623 0.8223 0.8667]]\n",
      "\n",
      "  [[0.782  0.751  0.7646]\n",
      "   [0.831  0.8    0.8135]\n",
      "   [0.791  0.76   0.7734]\n",
      "   ...\n",
      "   [0.8843 0.858  0.88  ]\n",
      "   [0.8667 0.8267 0.871 ]\n",
      "   [0.849  0.809  0.8535]]]\n",
      "\n",
      "\n",
      " [[[0.5645 0.547  0.6   ]\n",
      "   [0.52   0.5024 0.5557]\n",
      "   [0.5776 0.56   0.6133]\n",
      "   ...\n",
      "   [0.5776 0.5645 0.6313]\n",
      "   [0.4622 0.449  0.5156]\n",
      "   [0.573  0.56   0.6265]]\n",
      "\n",
      "  [[0.671  0.6533 0.7065]\n",
      "   [0.676  0.6577 0.711 ]\n",
      "   [0.662  0.6445 0.6978]\n",
      "   ...\n",
      "   [0.44   0.4268 0.4934]\n",
      "   [0.4666 0.4534 0.52  ]\n",
      "   [0.44   0.4268 0.4934]]\n",
      "\n",
      "  [[0.507  0.4888 0.542 ]\n",
      "   [0.5864 0.569  0.622 ]\n",
      "   [0.778  0.76   0.8135]\n",
      "   ...\n",
      "   [0.547  0.533  0.6   ]\n",
      "   [0.6577 0.6445 0.711 ]\n",
      "   [0.5776 0.5645 0.6313]]\n",
      "\n",
      "  ...\n",
      "\n",
      "  [[0.742  0.7334 0.76  ]\n",
      "   [0.738  0.729  0.7554]\n",
      "   [0.7246 0.7153 0.742 ]\n",
      "   ...\n",
      "   [0.6313 0.6133 0.662 ]\n",
      "   [0.64   0.622  0.671 ]\n",
      "   [0.64   0.622  0.671 ]]\n",
      "\n",
      "  [[0.7554 0.7466 0.7734]\n",
      "   [0.742  0.7334 0.76  ]\n",
      "   [0.7153 0.7065 0.7334]\n",
      "   ...\n",
      "   [0.6313 0.6133 0.662 ]\n",
      "   [0.649  0.6313 0.68  ]\n",
      "   [0.6577 0.64   0.689 ]]\n",
      "\n",
      "  [[0.7554 0.7466 0.7734]\n",
      "   [0.7466 0.738  0.7646]\n",
      "   [0.72   0.711  0.738 ]\n",
      "   ...\n",
      "   [0.6177 0.6    0.649 ]\n",
      "   [0.609  0.5913 0.64  ]\n",
      "   [0.6045 0.5864 0.6357]]]]\n"
     ]
    }
   ],
   "source": [
    "x_train, x_test, y_train, y_test = train_test_split(np_image_list, image_labels, test_size=0.2)\n",
    "x_train, x_val, y_train, y_val = train_test_split(x_train, y_train, test_size=0.2, random_state=1)\n",
    "print(x_train)"
   ]
  },
  {
   "cell_type": "markdown",
   "metadata": {},
   "source": [
    "Matriz aumentada"
   ]
  },
  {
   "cell_type": "code",
   "execution_count": 9,
   "metadata": {},
   "outputs": [],
   "source": [
    "aug = ImageDataGenerator(\n",
    "    rotation_range=30,\n",
    "    width_shift_range=0.2,\n",
    "    height_shift_range=0.2,\n",
    "    shear_range=0.1,\n",
    "    zoom_range=0.3,\n",
    "    horizontal_flip=True,\n",
    "    fill_mode=\"nearest\")"
   ]
  },
  {
   "cell_type": "markdown",
   "metadata": {},
   "source": [
    "Definicion del modelo y configuracion de las layers"
   ]
  },
  {
   "cell_type": "code",
   "execution_count": 10,
   "metadata": {},
   "outputs": [],
   "source": [
    "from keras.applications.vgg16 import VGG16\n",
    "model = VGG16(weights= 'imagenet', include_top=False, input_shape= (256,256,3))\n",
    "\n",
    "out = model.output\n",
    "out = GlobalAveragePooling2D()(out)\n",
    "out = Dense(512, activation='relu')(out)\n",
    "out = Dense(512, activation='relu')(out)\n",
    "predictions = Dense(n_classes, activation='softmax')(out)\n",
    "model = Model(inputs=model.input, outputs=predictions)"
   ]
  },
  {
   "cell_type": "code",
   "execution_count": 11,
   "metadata": {},
   "outputs": [
    {
     "name": "stdout",
     "output_type": "stream",
     "text": [
      "Model: \"model\"\n",
      "_________________________________________________________________\n",
      " Layer (type)                Output Shape              Param #   \n",
      "=================================================================\n",
      " input_1 (InputLayer)        [(None, 256, 256, 3)]     0         \n",
      "                                                                 \n",
      " block1_conv1 (Conv2D)       (None, 256, 256, 64)      1792      \n",
      "                                                                 \n",
      " block1_conv2 (Conv2D)       (None, 256, 256, 64)      36928     \n",
      "                                                                 \n",
      " block1_pool (MaxPooling2D)  (None, 128, 128, 64)      0         \n",
      "                                                                 \n",
      " block2_conv1 (Conv2D)       (None, 128, 128, 128)     73856     \n",
      "                                                                 \n",
      " block2_conv2 (Conv2D)       (None, 128, 128, 128)     147584    \n",
      "                                                                 \n",
      " block2_pool (MaxPooling2D)  (None, 64, 64, 128)       0         \n",
      "                                                                 \n",
      " block3_conv1 (Conv2D)       (None, 64, 64, 256)       295168    \n",
      "                                                                 \n",
      " block3_conv2 (Conv2D)       (None, 64, 64, 256)       590080    \n",
      "                                                                 \n",
      " block3_conv3 (Conv2D)       (None, 64, 64, 256)       590080    \n",
      "                                                                 \n",
      " block3_pool (MaxPooling2D)  (None, 32, 32, 256)       0         \n",
      "                                                                 \n",
      " block4_conv1 (Conv2D)       (None, 32, 32, 512)       1180160   \n",
      "                                                                 \n",
      " block4_conv2 (Conv2D)       (None, 32, 32, 512)       2359808   \n",
      "                                                                 \n",
      " block4_conv3 (Conv2D)       (None, 32, 32, 512)       2359808   \n",
      "                                                                 \n",
      " block4_pool (MaxPooling2D)  (None, 16, 16, 512)       0         \n",
      "                                                                 \n",
      " block5_conv1 (Conv2D)       (None, 16, 16, 512)       2359808   \n",
      "                                                                 \n",
      " block5_conv2 (Conv2D)       (None, 16, 16, 512)       2359808   \n",
      "                                                                 \n",
      " block5_conv3 (Conv2D)       (None, 16, 16, 512)       2359808   \n",
      "                                                                 \n",
      " block5_pool (MaxPooling2D)  (None, 8, 8, 512)         0         \n",
      "                                                                 \n",
      " global_average_pooling2d (G  (None, 512)              0         \n",
      " lobalAveragePooling2D)                                          \n",
      "                                                                 \n",
      " dense (Dense)               (None, 512)               262656    \n",
      "                                                                 \n",
      " dense_1 (Dense)             (None, 512)               262656    \n",
      "                                                                 \n",
      " dense_2 (Dense)             (None, 3)                 1539      \n",
      "                                                                 \n",
      "=================================================================\n",
      "Total params: 15,241,539\n",
      "Trainable params: 15,241,539\n",
      "Non-trainable params: 0\n",
      "_________________________________________________________________\n"
     ]
    }
   ],
   "source": [
    "model.summary()"
   ]
  },
  {
   "cell_type": "markdown",
   "metadata": {},
   "source": [
    "Definicion del modelo de optimizacion de Adam"
   ]
  },
  {
   "cell_type": "code",
   "execution_count": 12,
   "metadata": {},
   "outputs": [],
   "source": [
    "INT=1e-4\n",
    "EPOCHS= 10\n",
    "op = Adam(learning_rate=INT, decay=0.5)\n",
    "model.compile(loss=\"binary_crossentropy\",optimizer=op,metrics=[\"accuracy\"])"
   ]
  },
  {
   "cell_type": "markdown",
   "metadata": {},
   "source": [
    "Entrenamiento del modelo"
   ]
  },
  {
   "cell_type": "code",
   "execution_count": 13,
   "metadata": {},
   "outputs": [
    {
     "name": "stdout",
     "output_type": "stream",
     "text": [
      "Epoch 1/10\n"
     ]
    }
   ],
   "source": [
    "BS=22\n",
    "history=model.fit(\n",
    "    aug.flow(x_train,y_train,batch_size=BS),\n",
    "    validation_data=(x_val, y_val),\n",
    "    steps_per_epoch=len(x_train),\n",
    "    epochs=EPOCHS,verbose=1)"
   ]
  },
  {
   "cell_type": "markdown",
   "metadata": {},
   "source": [
    "Calculo de precision del digo"
   ]
  },
  {
   "cell_type": "code",
   "execution_count": null,
   "metadata": {},
   "outputs": [],
   "source": [
    "print(\"Model accuracy\")\n",
    "scores = model.evaluate(x_test, y_test)\n",
    "print(f\"Test Accuracy: {scores[1]*100}\")"
   ]
  }
 ],
 "metadata": {
  "interpreter": {
   "hash": "63a2a363ff2aea9977e75439b7b384ce48a613ddc351d8b68c10bf7446beaa2e"
  },
  "kernelspec": {
   "display_name": "Python 3.10.2 64-bit",
   "language": "python",
   "name": "python3"
  },
  "language_info": {
   "codemirror_mode": {
    "name": "ipython",
    "version": 3
   },
   "file_extension": ".py",
   "mimetype": "text/x-python",
   "name": "python",
   "nbconvert_exporter": "python",
   "pygments_lexer": "ipython3",
   "version": "3.10.2"
  },
  "orig_nbformat": 4
 },
 "nbformat": 4,
 "nbformat_minor": 2
}
